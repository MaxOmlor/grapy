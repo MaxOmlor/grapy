{
 "cells": [
  {
   "cell_type": "code",
   "execution_count": 93,
   "metadata": {},
   "outputs": [],
   "source": [
    "import numpy as np\n",
    "from grapy import np_extensions as ne\n",
    "from grapy import grapy as gp"
   ]
  },
  {
   "cell_type": "code",
   "execution_count": 2,
   "metadata": {},
   "outputs": [
    {
     "data": {
      "text/plain": [
       "array([[[ True,  True],\n",
       "        [False, False]]])"
      ]
     },
     "execution_count": 2,
     "metadata": {},
     "output_type": "execute_result"
    }
   ],
   "source": [
    "#a = np.array([[1,2],[2,3],[3,4]])\n",
    "#b = np.array([[1,2],[2,4]])\n",
    "a = np.array([[1,2],[2,3]])\n",
    "b = np.array([[1,2]])\n",
    "\n",
    "np.expand_dims(b, 1) == a\n",
    "#np_extensions.contains_vec(a,b, axis=0)"
   ]
  },
  {
   "cell_type": "code",
   "execution_count": 3,
   "metadata": {},
   "outputs": [
    {
     "data": {
      "text/plain": [
       "False"
      ]
     },
     "execution_count": 3,
     "metadata": {},
     "output_type": "execute_result"
    }
   ],
   "source": [
    "np.array([1, 2]).shape == (2, 2)"
   ]
  },
  {
   "cell_type": "code",
   "execution_count": 4,
   "metadata": {},
   "outputs": [
    {
     "name": "stdout",
     "output_type": "stream",
     "text": [
      "([1 2 3 4 5 6]\n",
      "[[1 2]\n",
      " [2 3]\n",
      " [3 1]\n",
      " [3 4]\n",
      " [4 5]\n",
      " [5 6]\n",
      " [6 4]\n",
      " [6 1]])\n"
     ]
    }
   ],
   "source": [
    "#g = Graph.from_edges(np.array([[1,2], [2,3], [3,1], [3,4], [4,5], [5,6], [6,4], [6,1]]))\n",
    "g = gp.from_edges([[1,2], [2,3], [3,1], [3,4], [4,5], [5,6], [6,4], [6,1]])\n",
    "print(g)"
   ]
  },
  {
   "cell_type": "code",
   "execution_count": 5,
   "metadata": {},
   "outputs": [
    {
     "data": {
      "text/plain": [
       "(array([1, 2, 3, 4, 5, 6]),\n",
       " array([[1, 2],\n",
       "        [2, 3],\n",
       "        [3, 1],\n",
       "        [3, 4],\n",
       "        [4, 5],\n",
       "        [5, 6],\n",
       "        [6, 4],\n",
       "        [6, 1]]),\n",
       " 6,\n",
       " array([[3, 4],\n",
       "        [6, 1]]),\n",
       " array([1, 2, 3, 4, 6]),\n",
       " True,\n",
       " False,\n",
       " True,\n",
       " False,\n",
       " True,\n",
       " False,\n",
       " True,\n",
       " False,\n",
       " ggraph(\n",
       " edges=array([1, 2, 3, 5]),\n",
       " verts=array([[1, 2],\n",
       "        [2, 3],\n",
       "        [3, 1]])))"
      ]
     },
     "execution_count": 5,
     "metadata": {},
     "output_type": "execute_result"
    }
   ],
   "source": [
    "(\n",
    "    g.verts,\n",
    "    g.edges,\n",
    "    len(g),\n",
    "    g.get_edges([1, 2, 3], [4, 5, 6]),\n",
    "    g.neighb([1, 3]),\n",
    "    1 in g,\n",
    "    7 in g,\n",
    "    [1,2] in g,\n",
    "    [1,5,7] in g,\n",
    "    [[1,2],[2,3]] in g,\n",
    "    [[1,2],[2,5]] in g,\n",
    "    gp.from_edges([[1,2],[2,3]]) in g,\n",
    "    gp.from_edges([[1,2],[2,5]]) in g,\n",
    "    g[[1,2,3,5]],\n",
    ")"
   ]
  },
  {
   "cell_type": "code",
   "execution_count": 113,
   "metadata": {},
   "outputs": [
    {
     "data": {
      "text/plain": [
       "(array([3]), array([3]), array([1, 2, 3, 4]))"
      ]
     },
     "execution_count": 113,
     "metadata": {},
     "output_type": "execute_result"
    }
   ],
   "source": [
    "a = np.array([1,2,3])\n",
    "b = np.array([1,2,4])\n",
    "\n",
    "a[(np.expand_dims(b, 1) != a).all(axis=0)], np.setdiff1d(a,b), np.union1d(a,b)"
   ]
  },
  {
   "cell_type": "code",
   "execution_count": 114,
   "metadata": {},
   "outputs": [
    {
     "data": {
      "text/plain": [
       "array([3, 4])"
      ]
     },
     "execution_count": 114,
     "metadata": {},
     "output_type": "execute_result"
    }
   ],
   "source": [
    "a = np.array([[1,2], [3,4]])\n",
    "b = np.array([1,2])\n",
    "\n",
    "np.setdiff1d(a,b)"
   ]
  },
  {
   "cell_type": "markdown",
   "metadata": {},
   "source": [
    "# ideas\n",
    "- sort edges for easy compability\n",
    "- methods to add:\n",
    "  - remove single verts"
   ]
  },
  {
   "cell_type": "markdown",
   "metadata": {},
   "source": []
  }
 ],
 "metadata": {
  "kernelspec": {
   "display_name": "Python 3.10.0 64-bit",
   "language": "python",
   "name": "python3"
  },
  "language_info": {
   "codemirror_mode": {
    "name": "ipython",
    "version": 3
   },
   "file_extension": ".py",
   "mimetype": "text/x-python",
   "name": "python",
   "nbconvert_exporter": "python",
   "pygments_lexer": "ipython3",
   "version": "3.10.0"
  },
  "orig_nbformat": 4,
  "vscode": {
   "interpreter": {
    "hash": "28b06ec166af8c83e5882731fef908354c2d57d9b46df793dcdb4efcedb4ca54"
   }
  }
 },
 "nbformat": 4,
 "nbformat_minor": 2
}
