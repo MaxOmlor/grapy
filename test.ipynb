{
 "cells": [
  {
   "cell_type": "code",
   "execution_count": 93,
   "metadata": {},
   "outputs": [],
   "source": [
    "import numpy as np\n",
    "from grapy import np_extensions as ne\n",
    "from grapy import grapy as gp"
   ]
  },
  {
   "cell_type": "code",
   "execution_count": 2,
   "metadata": {},
   "outputs": [
    {
     "data": {
      "text/plain": [
       "array([[[ True,  True],\n",
       "        [False, False]]])"
      ]
     },
     "execution_count": 2,
     "metadata": {},
     "output_type": "execute_result"
    }
   ],
   "source": [
    "#a = np.array([[1,2],[2,3],[3,4]])\n",
    "#b = np.array([[1,2],[2,4]])\n",
    "a = np.array([[1,2],[2,3]])\n",
    "b = np.array([[1,2]])\n",
    "\n",
    "np.expand_dims(b, 1) == a\n",
    "#np_extensions.contains_vec(a,b, axis=0)"
   ]
  },
  {
   "cell_type": "code",
   "execution_count": 3,
   "metadata": {},
   "outputs": [
    {
     "data": {
      "text/plain": [
       "False"
      ]
     },
     "execution_count": 3,
     "metadata": {},
     "output_type": "execute_result"
    }
   ],
   "source": [
    "np.array([1, 2]).shape == (2, 2)"
   ]
  },
  {
   "cell_type": "code",
   "execution_count": 4,
   "metadata": {},
   "outputs": [
    {
     "name": "stdout",
     "output_type": "stream",
     "text": [
      "([1 2 3 4 5 6]\n",
      "[[1 2]\n",
      " [2 3]\n",
      " [3 1]\n",
      " [3 4]\n",
      " [4 5]\n",
      " [5 6]\n",
      " [6 4]\n",
      " [6 1]])\n"
     ]
    }
   ],
   "source": [
    "#g = Graph.from_edges(np.array([[1,2], [2,3], [3,1], [3,4], [4,5], [5,6], [6,4], [6,1]]))\n",
    "g = gp.from_edges([[1,2], [2,3], [3,1], [3,4], [4,5], [5,6], [6,4], [6,1]])\n",
    "print(g)"
   ]
  },
  {
   "cell_type": "code",
   "execution_count": 5,
   "metadata": {},
   "outputs": [
    {
     "data": {
      "text/plain": [
       "(array([1, 2, 3, 4, 5, 6]),\n",
       " array([[1, 2],\n",
       "        [2, 3],\n",
       "        [3, 1],\n",
       "        [3, 4],\n",
       "        [4, 5],\n",
       "        [5, 6],\n",
       "        [6, 4],\n",
       "        [6, 1]]),\n",
       " 6,\n",
       " array([[3, 4],\n",
       "        [6, 1]]),\n",
       " array([1, 2, 3, 4, 6]),\n",
       " True,\n",
       " False,\n",
       " True,\n",
       " False,\n",
       " True,\n",
       " False,\n",
       " True,\n",
       " False,\n",
       " ggraph(\n",
       " edges=array([1, 2, 3, 5]),\n",
       " verts=array([[1, 2],\n",
       "        [2, 3],\n",
       "        [3, 1]])))"
      ]
     },
     "execution_count": 5,
     "metadata": {},
     "output_type": "execute_result"
    }
   ],
   "source": [
    "(\n",
    "    g.verts,\n",
    "    g.edges,\n",
    "    len(g),\n",
    "    g.get_edges([1, 2, 3], [4, 5, 6]),\n",
    "    g.neighb([1, 3]),\n",
    "    1 in g,\n",
    "    7 in g,\n",
    "    [1,2] in g,\n",
    "    [1,5,7] in g,\n",
    "    [[1,2],[2,3]] in g,\n",
    "    [[1,2],[2,5]] in g,\n",
    "    gp.from_edges([[1,2],[2,3]]) in g,\n",
    "    gp.from_edges([[1,2],[2,5]]) in g,\n",
    "    g[[1,2,3,5]],\n",
    ")"
   ]
  },
  {
   "cell_type": "code",
   "execution_count": 83,
   "metadata": {},
   "outputs": [],
   "source": [
    "def contains_edges(edges, e):\n",
    "    #return (((edges[:]==e) | (edges[:]==e[::-1])).all(axis=1)).any()\n",
    "\n",
    "    e_fliped = np.flip(e, axis=1)\n",
    "    edges_expanded = np.expand_dims(edges, 1)\n",
    "\n",
    "    comparsion1 = edges_expanded == e\n",
    "    comparsion1 = comparsion1.all(axis=2)\n",
    "    comparsion2 = edges_expanded == e_fliped\n",
    "    comparsion2 = comparsion2.all(axis=2)\n",
    "    comparsion = comparsion1 | comparsion2\n",
    "    return comparsion.any(axis=0)"
   ]
  },
  {
   "cell_type": "code",
   "execution_count": 84,
   "metadata": {},
   "outputs": [
    {
     "data": {
      "text/plain": [
       "array([False,  True,  True])"
      ]
     },
     "execution_count": 84,
     "metadata": {},
     "output_type": "execute_result"
    }
   ],
   "source": [
    "a = np.array([[1,2], [2,3], [3,1], [3,4], [4,5], [5,6], [6,4], [6,1]])\n",
    "#a = np.array([[1,2], [2,3]])\n",
    "e = np.array([[2,5], [2,3], [1,6]])\n",
    "#e = np.array([[2,5]])\n",
    "\n",
    "contains_edges(a, e)#, contains_edge(a, [[2,3]])"
   ]
  },
  {
   "cell_type": "code",
   "execution_count": 90,
   "metadata": {},
   "outputs": [
    {
     "ename": "TypeError",
     "evalue": "_expand_dims_dispatcher() missing 1 required positional argument: 'axis'",
     "output_type": "error",
     "traceback": [
      "\u001b[1;31m---------------------------------------------------------------------------\u001b[0m",
      "\u001b[1;31mTypeError\u001b[0m                                 Traceback (most recent call last)",
      "\u001b[1;32m~\\AppData\\Local\\Temp/ipykernel_30604/535159864.py\u001b[0m in \u001b[0;36m<module>\u001b[1;34m\u001b[0m\n\u001b[1;32m----> 1\u001b[1;33m \u001b[0mnp\u001b[0m\u001b[1;33m.\u001b[0m\u001b[0mexpand_dims\u001b[0m\u001b[1;33m(\u001b[0m\u001b[1;33m[\u001b[0m\u001b[1;33m[\u001b[0m\u001b[1;36m1\u001b[0m\u001b[1;33m,\u001b[0m\u001b[1;36m2\u001b[0m\u001b[1;33m]\u001b[0m\u001b[1;33m,\u001b[0m \u001b[1;33m[\u001b[0m\u001b[1;36m3\u001b[0m\u001b[1;33m,\u001b[0m\u001b[1;36m4\u001b[0m\u001b[1;33m]\u001b[0m\u001b[1;33m]\u001b[0m\u001b[1;33m)\u001b[0m\u001b[1;33m\u001b[0m\u001b[1;33m\u001b[0m\u001b[0m\n\u001b[0m",
      "\u001b[1;32m<__array_function__ internals>\u001b[0m in \u001b[0;36mexpand_dims\u001b[1;34m(*args, **kwargs)\u001b[0m\n",
      "\u001b[1;31mTypeError\u001b[0m: _expand_dims_dispatcher() missing 1 required positional argument: 'axis'"
     ]
    }
   ],
   "source": [
    "np.expand_dims([[1,2], [3,4]])"
   ]
  },
  {
   "cell_type": "code",
   "execution_count": 92,
   "metadata": {},
   "outputs": [
    {
     "data": {
      "text/plain": [
       "array([[1, 2]])"
      ]
     },
     "execution_count": 92,
     "metadata": {},
     "output_type": "execute_result"
    }
   ],
   "source": [
    "np.array([1,2])[np.newaxis]"
   ]
  },
  {
   "cell_type": "code",
   "execution_count": null,
   "metadata": {},
   "outputs": [],
   "source": [
    "\n",
    "\n",
    "if type(verts) is int:\n",
    "    verts = np.array([verts])\n",
    "\n",
    "mask1 = ne.contains_vec(verts, g.edges[:,0])\n",
    "mask2 = ne.contains_vec(verts, g.edges[:,1])\n",
    "neighb1 = g.edges[mask1][:,1]\n",
    "neighb2 = g.edges[mask2][:,0]\n",
    "\n",
    "#return np.append(neighb1, neighb2)\n",
    "return np.unique([neighb1, neighb2])"
   ]
  }
 ],
 "metadata": {
  "kernelspec": {
   "display_name": "Python 3.10.0 64-bit",
   "language": "python",
   "name": "python3"
  },
  "language_info": {
   "codemirror_mode": {
    "name": "ipython",
    "version": 3
   },
   "file_extension": ".py",
   "mimetype": "text/x-python",
   "name": "python",
   "nbconvert_exporter": "python",
   "pygments_lexer": "ipython3",
   "version": "3.10.0"
  },
  "orig_nbformat": 4,
  "vscode": {
   "interpreter": {
    "hash": "28b06ec166af8c83e5882731fef908354c2d57d9b46df793dcdb4efcedb4ca54"
   }
  }
 },
 "nbformat": 4,
 "nbformat_minor": 2
}
