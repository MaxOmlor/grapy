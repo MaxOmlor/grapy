{
 "cells": [
  {
   "cell_type": "code",
   "execution_count": 133,
   "metadata": {},
   "outputs": [],
   "source": [
    "import numpy as np\n",
    "from __future__ import annotations\n"
   ]
  },
  {
   "cell_type": "code",
   "execution_count": 156,
   "metadata": {},
   "outputs": [
    {
     "data": {
      "text/plain": [
       "array([[[ True,  True],\n",
       "        [False, False]]])"
      ]
     },
     "execution_count": 156,
     "metadata": {},
     "output_type": "execute_result"
    }
   ],
   "source": [
    "#a = np.array([[1,2],[2,3],[3,4]])\n",
    "#b = np.array([[1,2],[2,4]])\n",
    "a = np.array([[1,2],[2,3]])\n",
    "b = np.array([[1,2]])\n",
    "\n",
    "np.expand_dims(b, 1) == a\n",
    "#np_extensions.contains_vec(a,b, axis=0)"
   ]
  },
  {
   "cell_type": "code",
   "execution_count": 160,
   "metadata": {},
   "outputs": [
    {
     "name": "stdout",
     "output_type": "stream",
     "text": [
      "3\n",
      "2\n"
     ]
    }
   ],
   "source": [
    "a = np.arange(27).reshape((3,3,3))\n",
    "axis = 1\n",
    "for i in range(len(a.shape), axis, -1):\n",
    "    print(i)"
   ]
  },
  {
   "cell_type": "code",
   "execution_count": 172,
   "metadata": {},
   "outputs": [],
   "source": [
    "class np_extensions():\n",
    "    @classmethod\n",
    "    def contains_vec(cls, a: np.ndarray, b: np.ndarray, axis=1) -> np.ndarray:\n",
    "        if type(a) is not np.ndarray:\n",
    "            a = np.array(a)\n",
    "        if type(b) is not np.ndarray:\n",
    "            b = np.array(b)\n",
    "            \n",
    "        comparsion = np.expand_dims(b, 1) == a\n",
    "        for i in range(len(a.shape), axis, -1):\n",
    "            comparsion = comparsion.all(axis=i)\n",
    "        return comparsion.any(axis=axis)\n",
    "\n",
    "class Graph():\n",
    "    class ggraph():\n",
    "        def __init__(self, verts: np.ndarray, edges: np.ndarray) -> None:\n",
    "            if type(verts) is not np.ndarray:\n",
    "                verts = np.array(verts)\n",
    "            if type(edges) is not np.ndarray:\n",
    "                edges = np.array(edges)\n",
    "                \n",
    "            self.verts = verts\n",
    "            self.edges = edges\n",
    "\n",
    "            # predicates\n",
    "            # - start and end of every edges must be in verts\n",
    "\n",
    "        def __str__(self) -> str:\n",
    "            return f'({self.verts}\\n{self.edges})'\n",
    "\n",
    "        def __repr__(self) -> str:\n",
    "            return f'ggraph(\\nedges={repr(self.verts)},\\nverts={repr(self.edges)})'\n",
    "\n",
    "        def __len__(self):\n",
    "            return len(self.verts)\n",
    "\n",
    "        def get_edges(self, verts: int|np.ndarray, verts2: None|int|np.ndarray=None) -> np.ndarray:\n",
    "            return Graph.get_egdes(self, verts, verts2)\n",
    "\n",
    "        def neighb(self, verts: int|np.ndarray) -> np.ndarray:\n",
    "            return Graph.neighb(self, verts)\n",
    "\n",
    "        def __contains__(self, other: int|np.ndarray|Graph.ggraph):\n",
    "            return Graph.contains(self, other)\n",
    "\n",
    "        def contains_verts(self, verts: int|np.ndarray):\n",
    "            return Graph.contains_verts(self, verts)\n",
    "\n",
    "        def contains_edges(self, edges: int|np.ndarray):\n",
    "            return Graph.contains_edges(self, edges)\n",
    "\n",
    "        def __getitem__(self, verts):\n",
    "            if not np.all(np_extensions.contains_vec(self.verts, verts)):\n",
    "                raise ValueError(f'verts {verts} not in {self.verts}')\n",
    "            \n",
    "            return Graph.ggraph(verts, self.get_edges(verts, verts))\n",
    "\n",
    "    @classmethod\n",
    "    def from_edges(cls, edges: np.ndarray) -> ggraph:\n",
    "        verts = np.unique(edges)\n",
    "        return cls.ggraph(verts, edges)\n",
    "\n",
    "    @classmethod\n",
    "    def get_egdes(cls, g: ggraph, verts: int|np.ndarray, verts2: None|int|np.ndarray=None) -> np.ndarray:\n",
    "        if type(verts) is int:\n",
    "            verts = np.array([verts])\n",
    "        if type(verts2) is int:\n",
    "            verts = np.array([verts2])\n",
    "\n",
    "        mask = (np_extensions.contains_vec(verts, g.edges[:,0])\n",
    "            | np_extensions.contains_vec(verts, g.edges[:, 1])\n",
    "            if verts2 is None else\n",
    "            (np_extensions.contains_vec(verts, g.edges[:,0])\n",
    "            & np_extensions.contains_vec(verts2, g.edges[:,1]))\n",
    "            | (np_extensions.contains_vec(verts, g.edges[:, 1]))\n",
    "            & np_extensions.contains_vec(verts2, g.edges[:,0]))\n",
    "        \n",
    "        return g.edges[mask]\n",
    "        \n",
    "    @classmethod\n",
    "    def neighb(cls, g: ggraph, verts: int|np.ndarray) -> np.ndarray:\n",
    "        if type(verts) is int:\n",
    "            verts = np.array([verts])\n",
    "\n",
    "        mask1 = np_extensions.contains_vec(verts, g.edges[:,0])\n",
    "        mask2 = np_extensions.contains_vec(verts, g.edges[:,1])\n",
    "        neighb1 = g.edges[mask1][:,1]\n",
    "        neighb2 = g.edges[mask2][:,0]\n",
    "\n",
    "        #return np.append(neighb1, neighb2)\n",
    "        return np.unique([neighb1, neighb2])\n",
    "\n",
    "    @classmethod\n",
    "    def contains(cls, g: ggraph, other: int|np.ndarray|ggraph) -> bool|np.ndarray:\n",
    "        # one vert\n",
    "        if type(other) is int:\n",
    "            return other in g.verts\n",
    "        # ggraph\n",
    "        if type(other) is Graph.ggraph:\n",
    "            return (np_extensions.contains_vec(g.verts, other.verts).all()\n",
    "                and np_extensions.contains_vec(g.edges, other.edges).all())\n",
    "\n",
    "        if type(other) is list:\n",
    "            other = np.array(other)\n",
    "        # one edge\n",
    "        if type(other) is np.ndarray and other.shape == (2,):\n",
    "            return other in g.edges\n",
    "        # multiple verts\n",
    "        if type(other) is np.ndarray and len(other.shape) == 1:\n",
    "            return np_extensions.contains_vec(g.verts, other).all()\n",
    "        # multiple edges\n",
    "        if type(other) is np.ndarray and len(other.shape) == 2:\n",
    "            return np_extensions.contains_vec(g.edges, other).all()\n",
    "\n",
    "    @classmethod\n",
    "    def contains_verts(cls, g: ggraph, verts: int|np.ndarray) -> bool|np.ndarray:\n",
    "        if type(verts) is int:\n",
    "            return verts in g.verts\n",
    "        return np_extensions.contains_vec(g.verts, verts).all()\n",
    "\n",
    "    @classmethod\n",
    "    def contains_edges(cls, g: ggraph, edges: np.ndarray) -> bool|np.ndarray:\n",
    "        if edges.shape == (2,):\n",
    "            return edges in g.edges\n",
    "        return np_extensions.contains_vec(g.edges, edges).all()"
   ]
  },
  {
   "cell_type": "code",
   "execution_count": 173,
   "metadata": {},
   "outputs": [
    {
     "data": {
      "text/plain": [
       "False"
      ]
     },
     "execution_count": 173,
     "metadata": {},
     "output_type": "execute_result"
    }
   ],
   "source": [
    "np.array([1, 2]).shape == (2, 2)"
   ]
  },
  {
   "cell_type": "code",
   "execution_count": 174,
   "metadata": {},
   "outputs": [
    {
     "name": "stdout",
     "output_type": "stream",
     "text": [
      "([1 2 3 4 5 6]\n",
      "[[1 2]\n",
      " [2 3]\n",
      " [3 1]\n",
      " [3 4]\n",
      " [4 5]\n",
      " [5 6]\n",
      " [6 4]\n",
      " [6 1]])\n"
     ]
    }
   ],
   "source": [
    "#g = Graph.from_edges(np.array([[1,2], [2,3], [3,1], [3,4], [4,5], [5,6], [6,4], [6,1]]))\n",
    "g = Graph.from_edges([[1,2], [2,3], [3,1], [3,4], [4,5], [5,6], [6,4], [6,1]])\n",
    "print(g)"
   ]
  },
  {
   "cell_type": "code",
   "execution_count": 176,
   "metadata": {},
   "outputs": [
    {
     "data": {
      "text/plain": [
       "(array([1, 2, 3, 4, 5, 6]),\n",
       " array([[1, 2],\n",
       "        [2, 3],\n",
       "        [3, 1],\n",
       "        [3, 4],\n",
       "        [4, 5],\n",
       "        [5, 6],\n",
       "        [6, 4],\n",
       "        [6, 1]]),\n",
       " 6,\n",
       " array([[3, 4],\n",
       "        [6, 1]]),\n",
       " array([1, 2, 3, 4, 6]),\n",
       " True,\n",
       " False,\n",
       " True,\n",
       " False,\n",
       " True,\n",
       " False,\n",
       " True,\n",
       " False,\n",
       " ggraph(\n",
       " edges=array([1, 2, 3, 5]),\n",
       " verts=array([[1, 2],\n",
       "        [2, 3],\n",
       "        [3, 1]])))"
      ]
     },
     "execution_count": 176,
     "metadata": {},
     "output_type": "execute_result"
    }
   ],
   "source": [
    "(\n",
    "    g.verts,\n",
    "    g.edges,\n",
    "    len(g),\n",
    "    g.get_edges([1, 2, 3], [4, 5, 6]),\n",
    "    g.neighb([1, 3]),\n",
    "    1 in g,\n",
    "    7 in g,\n",
    "    [1,2] in g,\n",
    "    [1,5,7] in g,\n",
    "    [[1,2],[2,3]] in g,\n",
    "    [[1,2],[2,5]] in g,\n",
    "    Graph.from_edges([[1,2],[2,3]]) in g,\n",
    "    Graph.from_edges([[1,2],[2,5]]) in g,\n",
    "    g[[1,2,3,5]],\n",
    ")"
   ]
  },
  {
   "cell_type": "code",
   "execution_count": null,
   "metadata": {},
   "outputs": [],
   "source": []
  }
 ],
 "metadata": {
  "kernelspec": {
   "display_name": "Python 3.10.0 64-bit",
   "language": "python",
   "name": "python3"
  },
  "language_info": {
   "codemirror_mode": {
    "name": "ipython",
    "version": 3
   },
   "file_extension": ".py",
   "mimetype": "text/x-python",
   "name": "python",
   "nbconvert_exporter": "python",
   "pygments_lexer": "ipython3",
   "version": "3.10.0"
  },
  "orig_nbformat": 4,
  "vscode": {
   "interpreter": {
    "hash": "28b06ec166af8c83e5882731fef908354c2d57d9b46df793dcdb4efcedb4ca54"
   }
  }
 },
 "nbformat": 4,
 "nbformat_minor": 2
}
